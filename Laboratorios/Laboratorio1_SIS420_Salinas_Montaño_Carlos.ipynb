{
  "nbformat": 4,
  "nbformat_minor": 0,
  "metadata": {
    "colab": {
      "provenance": []
    },
    "kernelspec": {
      "name": "python3",
      "display_name": "Python 3"
    },
    "language_info": {
      "name": "python"
    }
  },
  "cells": [
    {
      "cell_type": "markdown",
      "source": [
        "LABORATORIO 1"
      ],
      "metadata": {
        "id": "z61HW28zmR9x"
      }
    },
    {
      "cell_type": "code",
      "execution_count": 1,
      "metadata": {
        "id": "qUxgZvq33-ID"
      },
      "outputs": [],
      "source": [
        "# utilizado para manejos de directorios y rutas\n",
        "import os\n",
        "\n",
        "# Computacion vectorial y cientifica para python\n",
        "import numpy as np\n",
        "\n",
        "# Librerias para graficación (trazado de gráficos)\n",
        "from matplotlib import pyplot\n",
        "from mpl_toolkits.mplot3d import Axes3D  # Necesario para graficar superficies 3D\n",
        "\n",
        "# llama a matplotlib a embeber graficas dentro de los cuadernillos\n",
        "%matplotlib inline"
      ]
    },
    {
      "cell_type": "code",
      "source": [
        "from google.colab import drive\n",
        "drive.mount(\"/content/gdrive\")"
      ],
      "metadata": {
        "colab": {
          "base_uri": "https://localhost:8080/"
        },
        "id": "KAL1mdKSjtYb",
        "outputId": "f2d35a55-4970-466a-ce36-a12c2f75658a"
      },
      "execution_count": 2,
      "outputs": [
        {
          "output_type": "stream",
          "name": "stdout",
          "text": [
            "Mounted at /content/gdrive\n"
          ]
        }
      ]
    },
    {
      "cell_type": "code",
      "source": [
        "# Para realizar la lectura de los datos y analisis de los datos importamos la libreria \"pandas\", ya que tiene gran flexibilidad y capacidad en manipulación de datos y\n",
        "# su integración con otras bibliotecas.\n",
        "import pandas as pd\n",
        "# LabelEncoder es una herramienta para normalizar etiquetas categóricas, es decir, convierte etiquetas de texto en números enteros.\n",
        "from sklearn.preprocessing import LabelEncoder\n",
        "# La clase datetime permite la manipulación de fechas y horas\n",
        "from datetime import datetime"
      ],
      "metadata": {
        "id": "3zeLCpwjiQCT"
      },
      "execution_count": 3,
      "outputs": []
    },
    {
      "cell_type": "code",
      "source": [
        "#Carga de dataset con \"pandas\"\n",
        "data = pd.read_csv('/content/gdrive/MyDrive/Colab Notebooks/Datasets/bikes.csv')"
      ],
      "metadata": {
        "id": "V0ZXOA-6iUmV"
      },
      "execution_count": 4,
      "outputs": []
    },
    {
      "cell_type": "code",
      "source": [
        "# Imprime cada fila y cada columna del Dataset\n",
        "print(data)"
      ],
      "metadata": {
        "colab": {
          "base_uri": "https://localhost:8080/"
        },
        "id": "h325dVhXicrs",
        "outputId": "13802eac-1e13-409f-9cee-c638edf56650"
      },
      "execution_count": 5,
      "outputs": [
        {
          "output_type": "stream",
          "name": "stdout",
          "text": [
            "                            model_name  model_year       kms_driven  \\\n",
            "0        Bajaj Avenger Cruise 220 2017        2017         17000 Km   \n",
            "1     Royal Enfield Classic 350cc 2016        2016         50000 Km   \n",
            "2                  Hyosung GT250R 2012        2012         14795 Km   \n",
            "3           Bajaj Dominar 400 ABS 2017        2017   Mileage 28 Kms   \n",
            "4                Jawa Perak 330cc 2020        2020          2000 Km   \n",
            "...                                ...         ...              ...   \n",
            "7852         Yamaha YZF-R15 150cc 2011        2011          7000 Km   \n",
            "7853         Bajaj Discover 100cc 2015        2015  Mileage 80 Kmpl   \n",
            "7854           Bajaj Pulsar 180cc 2016        2016          6407 Km   \n",
            "7855              Bajaj V15 150cc 2016        2016          7524 Km   \n",
            "7856           Bajaj Pulsar 220cc 2016        2016         15000 Km   \n",
            "\n",
            "            owner     location       mileage      power   price  \n",
            "0     first owner    hyderabad  \\n\\n 35 kmpl     19 bhp   63500  \n",
            "1     first owner    hyderabad  \\n\\n 35 kmpl  19.80 bhp  115000  \n",
            "2     first owner    hyderabad  \\n\\n 30 kmpl     28 bhp  300000  \n",
            "3     first owner  pondicherry   \\n\\n 28 Kms  34.50 bhp  100000  \n",
            "4     first owner    bangalore         \\n\\n      30 bhp  197500  \n",
            "...           ...          ...           ...        ...     ...  \n",
            "7852  first owner         agra  \\n\\n 42 kmpl     16 bhp   55000  \n",
            "7853  first owner        delhi  \\n\\n 80 Kmpl        7.7   28000  \n",
            "7854  first owner    bangalore  \\n\\n 65 kmpl     17 bhp   61740  \n",
            "7855  first owner    bangalore  \\n\\n 57 kmpl  11.80 bhp   49000  \n",
            "7856  first owner      chennai  \\n\\n 38 kmpl     21 bhp   65000  \n",
            "\n",
            "[7857 rows x 8 columns]\n"
          ]
        }
      ]
    },
    {
      "cell_type": "code",
      "source": [
        "# Proporciona un resumen conciso de la estructura y la información de los datos en el Dataset\n",
        "data.info()"
      ],
      "metadata": {
        "colab": {
          "base_uri": "https://localhost:8080/"
        },
        "id": "ZoYIJwRyifh-",
        "outputId": "8d2157c8-0d9c-464b-fcf5-4f3bae264a96"
      },
      "execution_count": 6,
      "outputs": [
        {
          "output_type": "stream",
          "name": "stdout",
          "text": [
            "<class 'pandas.core.frame.DataFrame'>\n",
            "RangeIndex: 7857 entries, 0 to 7856\n",
            "Data columns (total 8 columns):\n",
            " #   Column      Non-Null Count  Dtype \n",
            "---  ------      --------------  ----- \n",
            " 0   model_name  7857 non-null   object\n",
            " 1   model_year  7857 non-null   int64 \n",
            " 2   kms_driven  7857 non-null   object\n",
            " 3   owner       7857 non-null   object\n",
            " 4   location    7838 non-null   object\n",
            " 5   mileage     7846 non-null   object\n",
            " 6   power       7826 non-null   object\n",
            " 7   price       7857 non-null   int64 \n",
            "dtypes: int64(2), object(6)\n",
            "memory usage: 491.2+ KB\n"
          ]
        }
      ]
    },
    {
      "cell_type": "code",
      "source": [
        "# Con la siguiente linea de codigo convertimos las variables categoricas (object) a variables numericas\n",
        "columnas_categoricas = data.select_dtypes(include=['object']).columns\n",
        "# Convertimos variables fechas, si es que las hubiera a variables numericas\n",
        "columnas_fechas = data.select_dtypes(include=['datetime64']).columns"
      ],
      "metadata": {
        "id": "sFmWfM7Mjn9Z"
      },
      "execution_count": 7,
      "outputs": []
    },
    {
      "cell_type": "code",
      "source": [
        "#Procesamiento de frases o palabras,\n",
        "#este código ejecuta un bucle que itera sobre todas las columnas que se han identificado como variables categóricas en el DataFrame \"data\".\n",
        "#Luego, para cada columna categórica, se aplica la codificación de etiquetas utilizando la clase LabelEncoder\n",
        "for columna in columnas_categoricas:\n",
        "  le = LabelEncoder()\n",
        "  data[columna] = le.fit_transform(data[columna])"
      ],
      "metadata": {
        "id": "GcxRaOoqkOyD"
      },
      "execution_count": 8,
      "outputs": []
    },
    {
      "cell_type": "code",
      "source": [
        "#Fechas a numeros\n",
        "for columna in columnas_fechas:\n",
        "  data[columna] = pd.to_numeric(data[columna].map(datetime.timestamp))"
      ],
      "metadata": {
        "id": "hVuep7WXkQvA"
      },
      "execution_count": 9,
      "outputs": []
    },
    {
      "cell_type": "code",
      "source": [
        "#resultado\n",
        "print(data)"
      ],
      "metadata": {
        "colab": {
          "base_uri": "https://localhost:8080/"
        },
        "id": "vHzN_Uj0kS96",
        "outputId": "137af12e-6e55-4699-ecd9-f16d8f8cb416"
      },
      "execution_count": 10,
      "outputs": [
        {
          "output_type": "stream",
          "name": "stdout",
          "text": [
            "      model_name  model_year  kms_driven  owner  location  mileage  power  \\\n",
            "0             31        2017         414      0       237       41    114   \n",
            "1           1133        2016        1353      0       237       41    119   \n",
            "2            923        2012         280      0       237       36    168   \n",
            "3            145        2017        1772      0       427       31    179   \n",
            "4            943        2020         558      0        61        0    176   \n",
            "...          ...         ...         ...    ...       ...      ...    ...   \n",
            "7852        1681        2011        1532      0         7       54     85   \n",
            "7853          87        2015        1795      0       156      104    217   \n",
            "7854         234        2016        1474      0        61       91     95   \n",
            "7855         328        2016        1576      0        61       79     19   \n",
            "7856         271        2016         290      0       129       45    133   \n",
            "\n",
            "       price  \n",
            "0      63500  \n",
            "1     115000  \n",
            "2     300000  \n",
            "3     100000  \n",
            "4     197500  \n",
            "...      ...  \n",
            "7852   55000  \n",
            "7853   28000  \n",
            "7854   61740  \n",
            "7855   49000  \n",
            "7856   65000  \n",
            "\n",
            "[7857 rows x 8 columns]\n"
          ]
        }
      ]
    },
    {
      "cell_type": "code",
      "source": [
        "data.info()"
      ],
      "metadata": {
        "colab": {
          "base_uri": "https://localhost:8080/"
        },
        "id": "tJ9GFsACksGy",
        "outputId": "127188dc-cfdb-4c55-c814-59b2456811ae"
      },
      "execution_count": 11,
      "outputs": [
        {
          "output_type": "stream",
          "name": "stdout",
          "text": [
            "<class 'pandas.core.frame.DataFrame'>\n",
            "RangeIndex: 7857 entries, 0 to 7856\n",
            "Data columns (total 8 columns):\n",
            " #   Column      Non-Null Count  Dtype\n",
            "---  ------      --------------  -----\n",
            " 0   model_name  7857 non-null   int64\n",
            " 1   model_year  7857 non-null   int64\n",
            " 2   kms_driven  7857 non-null   int64\n",
            " 3   owner       7857 non-null   int64\n",
            " 4   location    7857 non-null   int64\n",
            " 5   mileage     7857 non-null   int64\n",
            " 6   power       7857 non-null   int64\n",
            " 7   price       7857 non-null   int64\n",
            "dtypes: int64(8)\n",
            "memory usage: 491.2 KB\n"
          ]
        }
      ]
    },
    {
      "cell_type": "code",
      "source": [
        "#Con este codigo llenamos los datos faltantes en cada unja de las columnas del dataset\n",
        "# columnas_especificas = ['Price', 'Display Size (inches)']\n",
        "# media_columnas = data[columnas_especificas].mean()\n",
        "# data[columnas_especificas] = data[columnas_especificas].fillna(media_columnas)"
      ],
      "metadata": {
        "id": "aL01HjE1tMNP"
      },
      "execution_count": null,
      "outputs": []
    },
    {
      "cell_type": "code",
      "source": [
        "data.info()"
      ],
      "metadata": {
        "colab": {
          "base_uri": "https://localhost:8080/"
        },
        "id": "IZheY0q7lvQg",
        "outputId": "173ec48f-ee66-48a7-d433-0d16e4575073"
      },
      "execution_count": 12,
      "outputs": [
        {
          "output_type": "stream",
          "name": "stdout",
          "text": [
            "<class 'pandas.core.frame.DataFrame'>\n",
            "RangeIndex: 7857 entries, 0 to 7856\n",
            "Data columns (total 8 columns):\n",
            " #   Column      Non-Null Count  Dtype\n",
            "---  ------      --------------  -----\n",
            " 0   model_name  7857 non-null   int64\n",
            " 1   model_year  7857 non-null   int64\n",
            " 2   kms_driven  7857 non-null   int64\n",
            " 3   owner       7857 non-null   int64\n",
            " 4   location    7857 non-null   int64\n",
            " 5   mileage     7857 non-null   int64\n",
            " 6   power       7857 non-null   int64\n",
            " 7   price       7857 non-null   int64\n",
            "dtypes: int64(8)\n",
            "memory usage: 491.2 KB\n"
          ]
        }
      ]
    },
    {
      "cell_type": "code",
      "source": [
        "# Lectura de Datos\n",
        "X = data.iloc[:, :7]\n",
        "y = data.iloc[:, 7]\n",
        "m = y.size"
      ],
      "metadata": {
        "id": "YuuRUXgCwvZ_"
      },
      "execution_count": 13,
      "outputs": []
    },
    {
      "cell_type": "code",
      "source": [
        "print(X)\n",
        "print('*'*25)\n",
        "print(y)"
      ],
      "metadata": {
        "colab": {
          "base_uri": "https://localhost:8080/"
        },
        "id": "x1NBC6A6xFoC",
        "outputId": "8a19e2fd-8d2f-4fde-d21b-033ef033e892"
      },
      "execution_count": 14,
      "outputs": [
        {
          "output_type": "stream",
          "name": "stdout",
          "text": [
            "      model_name  model_year  kms_driven  owner  location  mileage  power\n",
            "0             31        2017         414      0       237       41    114\n",
            "1           1133        2016        1353      0       237       41    119\n",
            "2            923        2012         280      0       237       36    168\n",
            "3            145        2017        1772      0       427       31    179\n",
            "4            943        2020         558      0        61        0    176\n",
            "...          ...         ...         ...    ...       ...      ...    ...\n",
            "7852        1681        2011        1532      0         7       54     85\n",
            "7853          87        2015        1795      0       156      104    217\n",
            "7854         234        2016        1474      0        61       91     95\n",
            "7855         328        2016        1576      0        61       79     19\n",
            "7856         271        2016         290      0       129       45    133\n",
            "\n",
            "[7857 rows x 7 columns]\n",
            "*************************\n",
            "0        63500\n",
            "1       115000\n",
            "2       300000\n",
            "3       100000\n",
            "4       197500\n",
            "         ...  \n",
            "7852     55000\n",
            "7853     28000\n",
            "7854     61740\n",
            "7855     49000\n",
            "7856     65000\n",
            "Name: price, Length: 7857, dtype: int64\n"
          ]
        }
      ]
    },
    {
      "cell_type": "code",
      "source": [
        "# Definimos una función llamada featureNormalize que normaliza las características (variables) de una matriz X utilizando la normalización de características.\n",
        "def  featureNormalize(X):\n",
        "    X_norm = X.copy()\n",
        "    mu = np.zeros(X.shape[1])\n",
        "    sigma = np.zeros(X.shape[1])\n",
        "\n",
        "    mu = np.mean(X, axis = 0)\n",
        "    sigma = np.std(X, axis = 0)\n",
        "    X_norm = (X - mu) / sigma\n",
        "\n",
        "    return X_norm, mu, sigma"
      ],
      "metadata": {
        "id": "DrrFytt2gkI8"
      },
      "execution_count": 15,
      "outputs": []
    },
    {
      "cell_type": "code",
      "source": [
        "# Llamamos a la funcion featureNormalize con los datos cargados\n",
        "X_norm, mu, sigma = featureNormalize(X)\n",
        "\n",
        "print(X)\n",
        "print('Media calculada:', mu)\n",
        "print('Desviación estandar calculada:', sigma)\n",
        "print(X_norm)"
      ],
      "metadata": {
        "colab": {
          "base_uri": "https://localhost:8080/"
        },
        "id": "MhHhItqc4YLy",
        "outputId": "8b2eb2ef-0a1c-4b2d-a99a-a65421ae21b1"
      },
      "execution_count": 16,
      "outputs": [
        {
          "output_type": "stream",
          "name": "stdout",
          "text": [
            "      model_name  model_year  kms_driven  owner  location  mileage  power\n",
            "0             31        2017         414      0       237       41    114\n",
            "1           1133        2016        1353      0       237       41    119\n",
            "2            923        2012         280      0       237       36    168\n",
            "3            145        2017        1772      0       427       31    179\n",
            "4            943        2020         558      0        61        0    176\n",
            "...          ...         ...         ...    ...       ...      ...    ...\n",
            "7852        1681        2011        1532      0         7       54     85\n",
            "7853          87        2015        1795      0       156      104    217\n",
            "7854         234        2016        1474      0        61       91     95\n",
            "7855         328        2016        1576      0        61       79     19\n",
            "7856         271        2016         290      0       129       45    133\n",
            "\n",
            "[7857 rows x 7 columns]\n",
            "Media calculada: model_name     860.815706\n",
            "model_year    2015.367698\n",
            "kms_driven    1106.161130\n",
            "owner            0.272496\n",
            "location       235.652666\n",
            "mileage         51.733486\n",
            "power          125.129821\n",
            "dtype: float64\n",
            "Desviación estandar calculada: model_name    516.045968\n",
            "model_year      4.001189\n",
            "kms_driven    594.189929\n",
            "owner           0.715969\n",
            "location      141.574789\n",
            "mileage        28.955061\n",
            "power          63.762647\n",
            "dtype: float64\n",
            "      model_name  model_year  kms_driven     owner  location   mileage  \\\n",
            "0      -1.608027    0.407954   -1.164882 -0.380597  0.009517 -0.370695   \n",
            "1       0.527442    0.158029    0.415421 -0.380597  0.009517 -0.370695   \n",
            "2       0.120501   -0.841674   -1.390399 -0.380597  0.009517 -0.543376   \n",
            "3      -1.387116    0.407954    1.120583 -0.380597  1.351564 -0.716057   \n",
            "4       0.159258    1.157732   -0.922535 -0.380597 -1.233642 -1.786682   \n",
            "...          ...         ...         ...       ...       ...       ...   \n",
            "7852    1.589363   -1.091600    0.716671 -0.380597 -1.615066  0.078277   \n",
            "7853   -1.499509   -0.091897    1.159291 -0.380597 -0.562619  1.805091   \n",
            "7854   -1.214651    0.158029    0.619059 -0.380597 -1.233642  1.356119   \n",
            "7855   -1.032497    0.158029    0.790722 -0.380597 -1.233642  0.941684   \n",
            "7856   -1.142952    0.158029   -1.373569 -0.380597 -0.753331 -0.232550   \n",
            "\n",
            "         power  \n",
            "0    -0.174551  \n",
            "1    -0.096135  \n",
            "2     0.672340  \n",
            "3     0.844855  \n",
            "4     0.797805  \n",
            "...        ...  \n",
            "7852 -0.629363  \n",
            "7853  1.440815  \n",
            "7854 -0.472531  \n",
            "7855 -1.664451  \n",
            "7856  0.123429  \n",
            "\n",
            "[7857 rows x 7 columns]\n"
          ]
        }
      ]
    },
    {
      "cell_type": "code",
      "source": [
        "# Añade el termino de interseccion a X\n",
        "# (Columna de unos para X0)\n",
        "X = np.concatenate([np.ones((m, 1)), X_norm], axis=1)"
      ],
      "metadata": {
        "id": "EB4cCmdm4bxJ"
      },
      "execution_count": 17,
      "outputs": []
    },
    {
      "cell_type": "code",
      "source": [
        "print(X)"
      ],
      "metadata": {
        "colab": {
          "base_uri": "https://localhost:8080/"
        },
        "id": "jxdWrQDC4fcD",
        "outputId": "7b9d18ac-c5c8-4877-ea8b-772b1bb0bb82"
      },
      "execution_count": 18,
      "outputs": [
        {
          "output_type": "stream",
          "name": "stdout",
          "text": [
            "[[ 1.         -1.60802672  0.40795438 ...  0.00951676 -0.37069464\n",
            "  -0.17455079]\n",
            " [ 1.          0.52744196  0.15802864 ...  0.00951676 -0.37069464\n",
            "  -0.09613498]\n",
            " [ 1.          0.12050146 -0.8416743  ...  0.00951676 -0.54337603\n",
            "   0.67234002]\n",
            " ...\n",
            " [ 1.         -1.21465091  0.15802864 ... -1.23364243  1.35611919\n",
            "  -0.47253089]\n",
            " [ 1.         -1.0324966   0.15802864 ... -1.23364243  0.94168387\n",
            "  -1.6644513 ]\n",
            " [ 1.         -1.14295187  0.15802864 ... -0.75333092 -0.23254954\n",
            "   0.12342931]]\n"
          ]
        }
      ]
    },
    {
      "cell_type": "code",
      "source": [
        "# Funcion de costo, cuantifica cuán bien se ajusta nuestro modelo de regresión a los datos de entrenamiento\n",
        "def computeCostMulti(X, y, theta):\n",
        "    # Inicializa algunos valores utiles\n",
        "    m = y.shape[0] # numero de ejemplos de entrenamiento\n",
        "\n",
        "    J = 0\n",
        "\n",
        "    h = np.dot(X, theta)\n",
        "\n",
        "    J = (1/(2 * m)) * np.sum(np.square(np.dot(X, theta) - y))\n",
        "\n",
        "    return J\n"
      ],
      "metadata": {
        "id": "is_NER384kX5"
      },
      "execution_count": 19,
      "outputs": []
    },
    {
      "cell_type": "code",
      "source": [
        "def gradientDescentMulti(X, y, theta, alpha, num_iters):\n",
        "\n",
        "    # Inicializa algunos valores\n",
        "    m = y.shape[0] # numero de ejemplos de entrenamiento\n",
        "\n",
        "    # realiza una copia de theta, el cual será acutalizada por el descenso por el gradiente\n",
        "    theta = theta.copy()\n",
        "\n",
        "    J_history = []\n",
        "\n",
        "    for i in range(num_iters):\n",
        "        theta = theta - (alpha / m) * (np.dot(X, theta) - y).dot(X)\n",
        "        J_history.append(computeCostMulti(X, y, theta))\n",
        "\n",
        "    return theta, J_history"
      ],
      "metadata": {
        "id": "NTic99Il4k9H"
      },
      "execution_count": 20,
      "outputs": []
    },
    {
      "cell_type": "code",
      "source": [
        "# Elegir algun valor para alpha (probar varias alternativas)\n",
        "alpha = 0.001\n",
        "num_iters = 5000\n",
        "\n",
        "# inicializa theta y ejecuta el descenso por el gradiente\n",
        "theta = np.zeros(8)\n",
        "theta, J_history = gradientDescentMulti(X, y, theta, alpha, num_iters)\n",
        "\n",
        "# Grafica la convergencia del costo\n",
        "pyplot.plot(np.arange(len(J_history)), J_history, lw=2)\n",
        "pyplot.xlabel('Numero de iteraciones')\n",
        "pyplot.ylabel('Costo J')\n",
        "\n",
        "# Muestra los resultados del descenso por el gradiente\n",
        "print('theta calculado por el descenso por el gradiente: {:s}'.format(str(theta)))\n",
        "\n",
        "# Estimar el precio para un smart watch con distintas caracteristicas\n",
        "X_array = [1, 33, 2016, 417, 0, 238, 42, 115]\n",
        "X_array[1:8] = (X_array[1:8] - mu) / sigma\n",
        "price = np.dot(X_array, theta)   # Se debe cambiar esto\n",
        "\n",
        "print('El valor predecido es (usando el descenso por el gradiente): {:.4f}'.format(price))"
      ],
      "metadata": {
        "colab": {
          "base_uri": "https://localhost:8080/",
          "height": 519
        },
        "id": "2sc2AmKF4qJQ",
        "outputId": "dc8dead0-b20c-4faa-b58d-a228380ea530"
      },
      "execution_count": 21,
      "outputs": [
        {
          "output_type": "stream",
          "name": "stdout",
          "text": [
            "theta calculado por el descenso por el gradiente: [106073.58036541    281.22693822  19743.36544571  -3048.52765862\n",
            "  -1605.40411572   2079.89388025 -48522.68113214  16828.10692537]\n",
            "El valor predecido es (usando el descenso por el gradiente): 126561.6118\n"
          ]
        },
        {
          "output_type": "display_data",
          "data": {
            "text/plain": [
              "<Figure size 640x480 with 1 Axes>"
            ],
            "image/png": "[encoded data removed]"
          },
          "metadata": {}
        }
      ]
    },
    {
      "cell_type": "code",
      "source": [
        "X_array = [1, 33, 2016, 417, 0, 238, 42, 115]\n",
        "X_array[1:8] = (X_array[1:8] - mu) / sigma"
      ],
      "metadata": {
        "id": "pHpGapUtf4QP"
      },
      "execution_count": 22,
      "outputs": []
    },
    {
      "cell_type": "code",
      "source": [
        "X_array[1:8]"
      ],
      "metadata": {
        "colab": {
          "base_uri": "https://localhost:8080/"
        },
        "id": "c_fhRmzof56K",
        "outputId": "c172981b-e538-4626-e744-485ae50749ac"
      },
      "execution_count": 23,
      "outputs": [
        {
          "output_type": "execute_result",
          "data": {
            "text/plain": [
              "[-1.604151098476265,\n",
              " 0.15802864322117988,\n",
              " -1.1598330717281864,\n",
              " -0.380597437772257,\n",
              " 0.016580166637780006,\n",
              " -0.33615836780080677,\n",
              " -0.1588676291374521]"
            ]
          },
          "metadata": {},
          "execution_count": 23
        }
      ]
    },
    {
      "cell_type": "code",
      "source": [
        "def normalEqn(X, y):\n",
        "\n",
        "    theta = np.zeros(X.shape[1])\n",
        "\n",
        "    theta = np.dot(np.dot(np.linalg.inv(np.dot(X.T,X)),X.T),y)\n",
        "\n",
        "    return theta"
      ],
      "metadata": {
        "id": "_MMoIdODf9FN"
      },
      "execution_count": 24,
      "outputs": []
    },
    {
      "cell_type": "code",
      "source": [
        "# Calcula los parametros con la ecuación de la normal\n",
        "theta = normalEqn(X, y);\n",
        "\n",
        "# Muestra los resultados optenidos a partir de la aplicación de la ecuación de la normal\n",
        "print('Theta calculado a partir de la ecuación de la normal: {:s}'.format(str(theta)));\n",
        "\n",
        "# Estimar el precio de una motocicleta usada en India\n",
        "\n",
        "X_array = [1, 33, 2016, 417, 0, 238, 42, 115]\n",
        "price = np.dot(X_array, theta)\n",
        "\n",
        "print('Precio predecido para una motocicleta usada en India (usando la ecuación de la normal): ${:.0f}'.format(price))"
      ],
      "metadata": {
        "colab": {
          "base_uri": "https://localhost:8080/"
        },
        "id": "E7px4OMrf9un",
        "outputId": "0f9381f4-c0d4-4721-b8ca-9de8c5a6dcd4"
      },
      "execution_count": 25,
      "outputs": [
        {
          "output_type": "stream",
          "name": "stdout",
          "text": [
            "Theta calculado a partir de la ecuación de la normal: [106791.33689703   -146.88201625  19532.61115375  -2703.0931867\n",
            "  -1684.70230893   1988.46319478 -49316.4306377   16596.02706103]\n",
            "Precio predecido para una motocicleta usada en India (usando la ecuación de la normal): $38663006\n"
          ]
        }
      ]
    }
  ]
}