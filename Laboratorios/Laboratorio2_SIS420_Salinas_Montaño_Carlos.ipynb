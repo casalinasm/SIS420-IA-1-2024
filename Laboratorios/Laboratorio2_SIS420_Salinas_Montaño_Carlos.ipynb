{
  "nbformat": 4,
  "nbformat_minor": 0,
  "metadata": {
    "colab": {
      "provenance": []
    },
    "kernelspec": {
      "name": "python3",
      "display_name": "Python 3"
    },
    "language_info": {
      "name": "python"
    }
  },
  "cells": [
    {
      "cell_type": "markdown",
      "source": [
        "Laboratorio 2 - Salinas Montaño Carlos (Regresion Logisitca)"
      ],
      "metadata": {
        "id": "VLFKFa34UG9O"
      }
    },
    {
      "cell_type": "code",
      "source": [
        "#Se utiliza para el manejo de rutas y directorios\n",
        "import os\n",
        "#Calculo cientifico y vectorial para python\n",
        "import numpy as np\n",
        "#librerias para graficar\n",
        "from matplotlib import pyplot\n",
        "#Modulo de optimizacion de Scipy\n",
        "from scipy import optimize\n",
        "#le dice a matplotlib que incruste los graficos en el cuaderno\n",
        "#%matplotlib inline\n",
        "import shutil\n",
        "# Para realizar la lectura de los datos y analisis de los datos importamos la libreria \"pandas\", ya que tiene gran flexibilidad y capacidad en manipulación de datos y\n",
        "# su integración con otras bibliotecas.\n",
        "import pandas as pd\n",
        "# LabelEncoder es una herramienta para normalizar etiquetas categóricas, es decir, convierte etiquetas de texto en números enteros.\n",
        "from sklearn.preprocessing import LabelEncoder\n",
        "from datetime import datetime\n",
        "# Importar libreria para dividir entrenamiento y prueba\n",
        "from sklearn.model_selection import train_test_split"
      ],
      "metadata": {
        "id": "zNJN1qvXbedz"
      },
      "execution_count": 1,
      "outputs": []
    },
    {
      "cell_type": "code",
      "source": [
        "# Acceder a Drive\n",
        "from google.colab import drive\n",
        "drive.mount('/content/drive')"
      ],
      "metadata": {
        "id": "BMt7-Mz6J-90",
        "colab": {
          "base_uri": "https://localhost:8080/"
        },
        "outputId": "4a9cf520-57c6-46a1-99db-368cc1a0e9a7"
      },
      "execution_count": 2,
      "outputs": [
        {
          "output_type": "stream",
          "name": "stdout",
          "text": [
            "Mounted at /content/drive\n"
          ]
        }
      ]
    },
    {
      "cell_type": "code",
      "execution_count": 3,
      "metadata": {
        "id": "5UvoqdJKbKIZ"
      },
      "outputs": [],
      "source": [
        "#Carga de DataSet\n",
        "data= pd.read_csv(\"/content/drive/MyDrive/Colab Notebooks/Datasets/smoke_detection_iot.csv\")"
      ]
    },
    {
      "cell_type": "code",
      "source": [
        "print(data)"
      ],
      "metadata": {
        "id": "qQeegxFZdou0",
        "colab": {
          "base_uri": "https://localhost:8080/"
        },
        "outputId": "8ed99860-4c0c-4028-ae2e-e2c6009d73d4"
      },
      "execution_count": 4,
      "outputs": [
        {
          "output_type": "stream",
          "name": "stdout",
          "text": [
            "       Unnamed: 0         UTC  Temperature[C]  Humidity[%]  TVOC[ppb]  \\\n",
            "0               0  1654733331          20.000        57.36          0   \n",
            "1               1  1654733332          20.015        56.67          0   \n",
            "2               2  1654733333          20.029        55.96          0   \n",
            "3               3  1654733334          20.044        55.28          0   \n",
            "4               4  1654733335          20.059        54.69          0   \n",
            "...           ...         ...             ...          ...        ...   \n",
            "62625       62625  1655130047          18.438        15.79        625   \n",
            "62626       62626  1655130048          18.653        15.87        612   \n",
            "62627       62627  1655130049          18.867        15.84        627   \n",
            "62628       62628  1655130050          19.083        16.04        638   \n",
            "62629       62629  1655130051          19.299        16.52        643   \n",
            "\n",
            "       eCO2[ppm]  Raw H2  Raw Ethanol  Pressure[hPa]  PM1.0  PM2.5  NC0.5  \\\n",
            "0            400   12306        18520        939.735   0.00   0.00   0.00   \n",
            "1            400   12345        18651        939.744   0.00   0.00   0.00   \n",
            "2            400   12374        18764        939.738   0.00   0.00   0.00   \n",
            "3            400   12390        18849        939.736   0.00   0.00   0.00   \n",
            "4            400   12403        18921        939.744   0.00   0.00   0.00   \n",
            "...          ...     ...          ...            ...    ...    ...    ...   \n",
            "62625        400   13723        20569        936.670   0.63   0.65   4.32   \n",
            "62626        400   13731        20588        936.678   0.61   0.63   4.18   \n",
            "62627        400   13725        20582        936.687   0.57   0.60   3.95   \n",
            "62628        400   13712        20566        936.680   0.57   0.59   3.92   \n",
            "62629        400   13696        20543        936.676   0.57   0.59   3.90   \n",
            "\n",
            "       NC1.0  NC2.5   CNT  Fire Alarm  \n",
            "0      0.000  0.000     0           0  \n",
            "1      0.000  0.000     1           0  \n",
            "2      0.000  0.000     2           0  \n",
            "3      0.000  0.000     3           0  \n",
            "4      0.000  0.000     4           0  \n",
            "...      ...    ...   ...         ...  \n",
            "62625  0.673  0.015  5739           0  \n",
            "62626  0.652  0.015  5740           0  \n",
            "62627  0.617  0.014  5741           0  \n",
            "62628  0.611  0.014  5742           0  \n",
            "62629  0.607  0.014  5743           0  \n",
            "\n",
            "[62630 rows x 16 columns]\n"
          ]
        }
      ]
    },
    {
      "cell_type": "code",
      "source": [
        "data.info()"
      ],
      "metadata": {
        "id": "riXc5xmxcyW0",
        "colab": {
          "base_uri": "https://localhost:8080/"
        },
        "outputId": "b425dc69-93af-4ec7-90bb-6d74b95d1cc2"
      },
      "execution_count": 5,
      "outputs": [
        {
          "output_type": "stream",
          "name": "stdout",
          "text": [
            "<class 'pandas.core.frame.DataFrame'>\n",
            "RangeIndex: 62630 entries, 0 to 62629\n",
            "Data columns (total 16 columns):\n",
            " #   Column          Non-Null Count  Dtype  \n",
            "---  ------          --------------  -----  \n",
            " 0   Unnamed: 0      62630 non-null  int64  \n",
            " 1   UTC             62630 non-null  int64  \n",
            " 2   Temperature[C]  62630 non-null  float64\n",
            " 3   Humidity[%]     62630 non-null  float64\n",
            " 4   TVOC[ppb]       62630 non-null  int64  \n",
            " 5   eCO2[ppm]       62630 non-null  int64  \n",
            " 6   Raw H2          62630 non-null  int64  \n",
            " 7   Raw Ethanol     62630 non-null  int64  \n",
            " 8   Pressure[hPa]   62630 non-null  float64\n",
            " 9   PM1.0           62630 non-null  float64\n",
            " 10  PM2.5           62630 non-null  float64\n",
            " 11  NC0.5           62630 non-null  float64\n",
            " 12  NC1.0           62630 non-null  float64\n",
            " 13  NC2.5           62630 non-null  float64\n",
            " 14  CNT             62630 non-null  int64  \n",
            " 15  Fire Alarm      62630 non-null  int64  \n",
            "dtypes: float64(8), int64(8)\n",
            "memory usage: 7.6 MB\n"
          ]
        }
      ]
    },
    {
      "cell_type": "markdown",
      "source": [
        "Como podemos observar todos los datos son de tipo numerico asi que no tenemos que convertir ninguno de los datos. Ademas que tampoco se tiene que hacer ningun llenado de datos ya que todas las columnas se encuentran completas al 100%"
      ],
      "metadata": {
        "id": "hNKBKOIg-nDp"
      }
    },
    {
      "cell_type": "code",
      "source": [
        "# Division de dataset en entrenamiento y prueba, le damos a TEST (prueba) el 20% (0.2) y lo restante, osea el 80% para entrenamiento\n",
        "# Para esto utilizamos la libreria \"train_test_split\"\n",
        "train_data, test_data = train_test_split(data, test_size=0.2, random_state=42)"
      ],
      "metadata": {
        "id": "new7p1TtzoSB"
      },
      "execution_count": 6,
      "outputs": []
    },
    {
      "cell_type": "code",
      "source": [
        "print(train_data)"
      ],
      "metadata": {
        "id": "jKaORWmfzukG",
        "colab": {
          "base_uri": "https://localhost:8080/"
        },
        "outputId": "0b012b97-b940-4e37-ac05-2ec261b79dca"
      },
      "execution_count": 7,
      "outputs": [
        {
          "output_type": "stream",
          "name": "stdout",
          "text": [
            "       Unnamed: 0         UTC  Temperature[C]  Humidity[%]  TVOC[ppb]  \\\n",
            "28479       28479  1654764828          21.430        59.72        283   \n",
            "42605       42605  1654778954          25.980        47.24       1247   \n",
            "17963       17963  1654751294          18.116        47.55       1124   \n",
            "56394       56394  1654717439          59.620        11.60      60000   \n",
            "29875       29875  1654766224          22.250        48.83         24   \n",
            "...           ...         ...             ...          ...        ...   \n",
            "62570       62570  1655129992           7.664        15.67        781   \n",
            "38158       38158  1654774507          27.080        47.10       1124   \n",
            "860           860  1654734191          26.945        57.50          0   \n",
            "15795       15795  1654749126          11.997        47.93       1128   \n",
            "56422       56422  1654717467          57.270        12.32      53355   \n",
            "\n",
            "       eCO2[ppm]  Raw H2  Raw Ethanol  Pressure[hPa]    PM1.0    PM2.5  \\\n",
            "28479        400   13138        19923        939.672     1.38     1.43   \n",
            "42605        422   12886        19423        938.734     1.73     1.79   \n",
            "17963        400   12909        19446        938.710     1.56     1.62   \n",
            "56394       4305   11771        17216        936.746  1382.21  1624.71   \n",
            "29875        400   13255        20202        939.700     2.25     2.33   \n",
            "...          ...     ...          ...            ...      ...      ...   \n",
            "62570        400   13712        20485        936.690     0.56     0.58   \n",
            "38158        540   12839        19449        938.880     1.64     1.70   \n",
            "860          400   13006        19932        939.754     0.37     0.39   \n",
            "15795        404   12884        19453        938.807     2.00     2.07   \n",
            "56422        586   12723        18481        936.706   124.50   144.05   \n",
            "\n",
            "         NC0.5     NC1.0    NC2.5    CNT  Fire Alarm  \n",
            "28479     9.48     1.478    0.033   3485           1  \n",
            "42605    11.88     1.853    0.042  17611           1  \n",
            "17963    10.75     1.677    0.038  17963           1  \n",
            "56394  9039.26  1709.083  216.618   5252           0  \n",
            "29875    15.47     2.412    0.054   4881           1  \n",
            "...        ...       ...      ...    ...         ...  \n",
            "62570     3.84     0.599    0.014   5684           0  \n",
            "38158    11.29     1.761    0.040  13164           1  \n",
            "860       2.57     0.400    0.009    860           0  \n",
            "15795    13.73     2.141    0.048  15795           1  \n",
            "56422   819.98   151.200   17.283   5280           0  \n",
            "\n",
            "[50104 rows x 16 columns]\n"
          ]
        }
      ]
    },
    {
      "cell_type": "code",
      "source": [
        "print(test_data)"
      ],
      "metadata": {
        "id": "UJ65T22kz4Vd",
        "colab": {
          "base_uri": "https://localhost:8080/"
        },
        "outputId": "be573975-a1a8-4519-b7df-aec68b9f9759"
      },
      "execution_count": 8,
      "outputs": [
        {
          "output_type": "stream",
          "name": "stdout",
          "text": [
            "       Unnamed: 0         UTC  Temperature[C]  Humidity[%]  TVOC[ppb]  \\\n",
            "31120       31120  1654767469          21.330        51.93        138   \n",
            "49054       49054  1654785403          24.300        53.78       1297   \n",
            "55910       55910  1654716955          43.330        18.53          0   \n",
            "33802       33802  1654770151          18.440        56.79        358   \n",
            "9683         9683  1654743014          -4.350        57.35        825   \n",
            "...           ...         ...             ...          ...        ...   \n",
            "2084         2084  1654735415          21.805        47.50          0   \n",
            "24481       24481  1654757812          -1.740        54.32       1253   \n",
            "41631       41631  1654777980          26.940        47.87       1222   \n",
            "54885       54885  1654715930          25.850        44.96          0   \n",
            "9273         9273  1654742604          -5.169        60.25        586   \n",
            "\n",
            "       eCO2[ppm]  Raw H2  Raw Ethanol  Pressure[hPa]  PM1.0  PM2.5  NC0.5  \\\n",
            "31120        400   13190        20128        939.690   0.96   1.00   6.60   \n",
            "49054        400   13015        19403        938.774   2.03   2.11  13.99   \n",
            "55910        400   13621        21322        936.812   1.16   1.21   7.98   \n",
            "33802        400   13069        19907        939.295   0.33   0.34   2.24   \n",
            "9683         977   12634        19523        939.138   2.58   2.68  17.78   \n",
            "...          ...     ...          ...            ...    ...    ...    ...   \n",
            "2084         400   13164        20058        939.635   0.84   0.87   5.76   \n",
            "24481        400   13002        19410        938.797   1.56   1.62  10.73   \n",
            "41631        408   12886        19428        938.765   1.96   2.03  13.47   \n",
            "54885        400   13456        21299        937.375   2.19   2.28  15.08   \n",
            "9273         572   12855        19682        939.235   2.57   2.67  17.68   \n",
            "\n",
            "       NC1.0  NC2.5    CNT  Fire Alarm  \n",
            "31120  1.030  0.023   6126           1  \n",
            "49054  2.181  0.049  24060           1  \n",
            "55910  1.245  0.028   4768           0  \n",
            "33802  0.349  0.008   8808           1  \n",
            "9683   2.773  0.063   9683           1  \n",
            "...      ...    ...    ...         ...  \n",
            "2084   0.899  0.020   2084           0  \n",
            "24481  1.674  0.038  24481           1  \n",
            "41631  2.100  0.047  16637           1  \n",
            "54885  2.352  0.053   3743           0  \n",
            "9273   2.758  0.062   9273           1  \n",
            "\n",
            "[12526 rows x 16 columns]\n"
          ]
        }
      ]
    },
    {
      "cell_type": "code",
      "source": [
        "#Creamos un nuevo dataset con el nombre de train.csv, el cual contiene el 80% de los datos\n",
        "train_data.to_csv(\"train.csv\", index=False)"
      ],
      "metadata": {
        "id": "c0OYGm-k0jaB"
      },
      "execution_count": 9,
      "outputs": []
    },
    {
      "cell_type": "code",
      "source": [
        "#Creamos un nuevo dataset con el nombre de test.csv, el cual contiene el 20% de los datos\n",
        "test_data.to_csv(\"test.csv\", index=False)"
      ],
      "metadata": {
        "id": "M1EKMfy40625"
      },
      "execution_count": 10,
      "outputs": []
    },
    {
      "cell_type": "code",
      "source": [
        "#Carga de dataset\n",
        "data = pd.read_csv('/content/train.csv')"
      ],
      "metadata": {
        "id": "4WFVv0SB1NnL"
      },
      "execution_count": 11,
      "outputs": []
    },
    {
      "cell_type": "code",
      "source": [
        "X = data.iloc[:, 0:15]\n",
        "y = data.iloc[:,15]\n",
        "m = y.size"
      ],
      "metadata": {
        "id": "4SAcsc0FqhL_"
      },
      "execution_count": 12,
      "outputs": []
    },
    {
      "cell_type": "code",
      "source": [
        "print(X)\n",
        "print('*'*50)\n",
        "print(y)"
      ],
      "metadata": {
        "id": "9pdoZ_n0rGDX",
        "colab": {
          "base_uri": "https://localhost:8080/"
        },
        "outputId": "64f35bc1-3271-4dfc-9fce-50476cc4fa04"
      },
      "execution_count": 13,
      "outputs": [
        {
          "output_type": "stream",
          "name": "stdout",
          "text": [
            "       Unnamed: 0         UTC  Temperature[C]  Humidity[%]  TVOC[ppb]  \\\n",
            "0           28479  1654764828          21.430        59.72        283   \n",
            "1           42605  1654778954          25.980        47.24       1247   \n",
            "2           17963  1654751294          18.116        47.55       1124   \n",
            "3           56394  1654717439          59.620        11.60      60000   \n",
            "4           29875  1654766224          22.250        48.83         24   \n",
            "...           ...         ...             ...          ...        ...   \n",
            "50099       62570  1655129992           7.664        15.67        781   \n",
            "50100       38158  1654774507          27.080        47.10       1124   \n",
            "50101         860  1654734191          26.945        57.50          0   \n",
            "50102       15795  1654749126          11.997        47.93       1128   \n",
            "50103       56422  1654717467          57.270        12.32      53355   \n",
            "\n",
            "       eCO2[ppm]  Raw H2  Raw Ethanol  Pressure[hPa]    PM1.0    PM2.5  \\\n",
            "0            400   13138        19923        939.672     1.38     1.43   \n",
            "1            422   12886        19423        938.734     1.73     1.79   \n",
            "2            400   12909        19446        938.710     1.56     1.62   \n",
            "3           4305   11771        17216        936.746  1382.21  1624.71   \n",
            "4            400   13255        20202        939.700     2.25     2.33   \n",
            "...          ...     ...          ...            ...      ...      ...   \n",
            "50099        400   13712        20485        936.690     0.56     0.58   \n",
            "50100        540   12839        19449        938.880     1.64     1.70   \n",
            "50101        400   13006        19932        939.754     0.37     0.39   \n",
            "50102        404   12884        19453        938.807     2.00     2.07   \n",
            "50103        586   12723        18481        936.706   124.50   144.05   \n",
            "\n",
            "         NC0.5     NC1.0    NC2.5    CNT  \n",
            "0         9.48     1.478    0.033   3485  \n",
            "1        11.88     1.853    0.042  17611  \n",
            "2        10.75     1.677    0.038  17963  \n",
            "3      9039.26  1709.083  216.618   5252  \n",
            "4        15.47     2.412    0.054   4881  \n",
            "...        ...       ...      ...    ...  \n",
            "50099     3.84     0.599    0.014   5684  \n",
            "50100    11.29     1.761    0.040  13164  \n",
            "50101     2.57     0.400    0.009    860  \n",
            "50102    13.73     2.141    0.048  15795  \n",
            "50103   819.98   151.200   17.283   5280  \n",
            "\n",
            "[50104 rows x 15 columns]\n",
            "**************************************************\n",
            "0        1\n",
            "1        1\n",
            "2        1\n",
            "3        0\n",
            "4        1\n",
            "        ..\n",
            "50099    0\n",
            "50100    1\n",
            "50101    0\n",
            "50102    1\n",
            "50103    0\n",
            "Name: Fire Alarm, Length: 50104, dtype: int64\n"
          ]
        }
      ]
    },
    {
      "cell_type": "code",
      "source": [
        "#Normalizamos los datos para no tener los datos tan dispersos y que la facilidad de calculo sea mejor\n",
        "def normalizarCaracteristicas(X):\n",
        "    X_norm = X.copy()\n",
        "    mu = np.zeros(X.shape[1])\n",
        "    sigma = np.zeros(X.shape[1])\n",
        "\n",
        "    mu = np.mean(X, axis = 0)\n",
        "    sigma = np.std(X, axis = 0)\n",
        "    X_norm = (X - mu) / sigma\n",
        "\n",
        "    return X_norm, mu, sigma"
      ],
      "metadata": {
        "id": "OdUtfqqEr5PQ"
      },
      "execution_count": 14,
      "outputs": []
    },
    {
      "cell_type": "code",
      "source": [
        "# llama featureNormalize con los datos cargados\n",
        "X_norm, mu, sigma = normalizarCaracteristicas(X)\n",
        "\n",
        "print(X)\n",
        "print('Media calculada:', mu)\n",
        "print('Desviación estandar calculada:', sigma)\n",
        "print(X_norm)"
      ],
      "metadata": {
        "id": "w3evD1dcr6O_",
        "colab": {
          "base_uri": "https://localhost:8080/"
        },
        "outputId": "916a6e2f-fff3-4c5b-adf5-065f515e145f"
      },
      "execution_count": 15,
      "outputs": [
        {
          "output_type": "stream",
          "name": "stdout",
          "text": [
            "       Unnamed: 0         UTC  Temperature[C]  Humidity[%]  TVOC[ppb]  \\\n",
            "0           28479  1654764828          21.430        59.72        283   \n",
            "1           42605  1654778954          25.980        47.24       1247   \n",
            "2           17963  1654751294          18.116        47.55       1124   \n",
            "3           56394  1654717439          59.620        11.60      60000   \n",
            "4           29875  1654766224          22.250        48.83         24   \n",
            "...           ...         ...             ...          ...        ...   \n",
            "50099       62570  1655129992           7.664        15.67        781   \n",
            "50100       38158  1654774507          27.080        47.10       1124   \n",
            "50101         860  1654734191          26.945        57.50          0   \n",
            "50102       15795  1654749126          11.997        47.93       1128   \n",
            "50103       56422  1654717467          57.270        12.32      53355   \n",
            "\n",
            "       eCO2[ppm]  Raw H2  Raw Ethanol  Pressure[hPa]    PM1.0    PM2.5  \\\n",
            "0            400   13138        19923        939.672     1.38     1.43   \n",
            "1            422   12886        19423        938.734     1.73     1.79   \n",
            "2            400   12909        19446        938.710     1.56     1.62   \n",
            "3           4305   11771        17216        936.746  1382.21  1624.71   \n",
            "4            400   13255        20202        939.700     2.25     2.33   \n",
            "...          ...     ...          ...            ...      ...      ...   \n",
            "50099        400   13712        20485        936.690     0.56     0.58   \n",
            "50100        540   12839        19449        938.880     1.64     1.70   \n",
            "50101        400   13006        19932        939.754     0.37     0.39   \n",
            "50102        404   12884        19453        938.807     2.00     2.07   \n",
            "50103        586   12723        18481        936.706   124.50   144.05   \n",
            "\n",
            "         NC0.5     NC1.0    NC2.5    CNT  \n",
            "0         9.48     1.478    0.033   3485  \n",
            "1        11.88     1.853    0.042  17611  \n",
            "2        10.75     1.677    0.038  17963  \n",
            "3      9039.26  1709.083  216.618   5252  \n",
            "4        15.47     2.412    0.054   4881  \n",
            "...        ...       ...      ...    ...  \n",
            "50099     3.84     0.599    0.014   5684  \n",
            "50100    11.29     1.761    0.040  13164  \n",
            "50101     2.57     0.400    0.009    860  \n",
            "50102    13.73     2.141    0.048  15795  \n",
            "50103   819.98   151.200   17.283   5280  \n",
            "\n",
            "[50104 rows x 15 columns]\n",
            "Media calculada: Unnamed: 0        3.124279e+04\n",
            "UTC               1.654792e+09\n",
            "Temperature[C]    1.592866e+01\n",
            "Humidity[%]       4.856116e+01\n",
            "TVOC[ppb]         1.934006e+03\n",
            "eCO2[ppm]         6.682939e+02\n",
            "Raw H2            1.294283e+04\n",
            "Raw Ethanol       1.975394e+04\n",
            "Pressure[hPa]     9.386324e+02\n",
            "PM1.0             9.800864e+01\n",
            "PM2.5             1.802198e+02\n",
            "NC0.5             4.775908e+02\n",
            "NC1.0             1.989439e+02\n",
            "NC2.5             7.847062e+01\n",
            "CNT               1.052459e+04\n",
            "dtype: float64\n",
            "Desviación estandar calculada: Unnamed: 0         18070.181365\n",
            "UTC               109662.026569\n",
            "Temperature[C]        14.362052\n",
            "Humidity[%]            8.841930\n",
            "TVOC[ppb]           7784.318595\n",
            "eCO2[ppm]           1910.752616\n",
            "Raw H2               271.783810\n",
            "Raw Ethanol          607.593213\n",
            "Pressure[hPa]          1.323613\n",
            "PM1.0                907.285275\n",
            "PM2.5               1959.194173\n",
            "NC0.5               4167.634262\n",
            "NC1.0               2196.786100\n",
            "NC2.5               1080.659631\n",
            "CNT                 7601.103378\n",
            "dtype: float64\n",
            "       Unnamed: 0       UTC  Temperature[C]  Humidity[%]  TVOC[ppb]  \\\n",
            "0       -0.152947 -0.245671        0.383047     1.262037  -0.212094   \n",
            "1        0.628782 -0.116857        0.699854    -0.149420  -0.088255   \n",
            "2       -0.734901 -0.369087        0.152300    -0.114359  -0.104056   \n",
            "3        1.391863 -0.677808        3.042138    -4.180214   7.459355   \n",
            "4       -0.075693 -0.232941        0.440142     0.030405  -0.245366   \n",
            "...           ...       ...             ...          ...        ...   \n",
            "50099    1.733641  3.084233       -0.575451    -3.719907  -0.148119   \n",
            "50100    0.382686 -0.157409        0.776445    -0.165253  -0.104056   \n",
            "50101   -1.681377 -0.525048        0.767045     1.010961  -0.248449   \n",
            "50102   -0.854877 -0.388857       -0.273753    -0.071382  -0.103542   \n",
            "50103    1.393412 -0.677553        2.878512    -4.098784   6.605715   \n",
            "\n",
            "       eCO2[ppm]    Raw H2  Raw Ethanol  Pressure[hPa]     PM1.0     PM2.5  \\\n",
            "0      -0.140413  0.718116     0.278251       0.785434 -0.106503 -0.091257   \n",
            "1      -0.128899 -0.209092    -0.544668       0.076767 -0.106117 -0.091073   \n",
            "2      -0.140413 -0.124466    -0.506813       0.058635 -0.106305 -0.091160   \n",
            "3       1.903285 -4.311617    -4.177032      -1.425183  1.415433  0.737288   \n",
            "4      -0.140413  1.148605     0.737440       0.806588 -0.105544 -0.090797   \n",
            "...          ...       ...          ...            ...       ...       ...   \n",
            "50099  -0.140413  2.830089     1.203212      -1.467491 -0.107407 -0.091691   \n",
            "50100  -0.067143 -0.382023    -0.501876       0.187072 -0.106216 -0.091119   \n",
            "50101  -0.140413  0.232436     0.293064       0.847386 -0.107616 -0.091788   \n",
            "50102  -0.138319 -0.216450    -0.495292       0.131920 -0.105820 -0.090930   \n",
            "50103  -0.043069 -0.808833    -2.095047      -1.455403  0.029198 -0.018462   \n",
            "\n",
            "          NC0.5     NC1.0     NC2.5       CNT  \n",
            "0     -0.112321 -0.089889 -0.072583 -0.926127  \n",
            "1     -0.111745 -0.089718 -0.072575  0.932287  \n",
            "2     -0.112016 -0.089798 -0.072578  0.978596  \n",
            "3      2.054324  0.687431  0.127836 -0.693661  \n",
            "4     -0.110883 -0.089463 -0.072564 -0.742469  \n",
            "...         ...       ...       ...       ...  \n",
            "50099 -0.113674 -0.090289 -0.072601 -0.636827  \n",
            "50100 -0.111886 -0.089760 -0.072577  0.347241  \n",
            "50101 -0.113979 -0.090379 -0.072605 -1.271472  \n",
            "50102 -0.111301 -0.089587 -0.072569  0.693375  \n",
            "50103  0.082154 -0.021734 -0.056621 -0.689977  \n",
            "\n",
            "[50104 rows x 15 columns]\n"
          ]
        }
      ]
    },
    {
      "cell_type": "code",
      "source": [
        "def plotData(X, y):\n",
        "    # Gragica los puntos de datos X y y en una nueva figura. Grafica los puntos de datos con * para los positivos y\n",
        "    # o para los negativos.\n",
        "\n",
        "    # Crea una nueva figura\n",
        "    fig = pyplot.figure()\n",
        "\n",
        "    # Find Indices of Positive and Negative Examples\n",
        "    pos = y == 1\n",
        "    neg = y == 0\n",
        "\n",
        "    # Plot Examples\n",
        "    pyplot.plot(X[pos, 0], X[pos, 1], 'k*', lw=2, ms=10)\n",
        "    pyplot.plot(X[neg, 0], X[neg, 1], 'ko', mfc='y', ms=8, mec='k', mew=1)"
      ],
      "metadata": {
        "id": "kILIi-CXtPx4"
      },
      "execution_count": 16,
      "outputs": []
    },
    {
      "cell_type": "code",
      "metadata": {
        "id": "Yxz27db7fDOQ"
      },
      "source": [
        "#Va en un rango de 0 a 1, justo lo que necesitamos, aunque nunca llega exactamente a 0 o 1\n",
        "def sigmoid(z):\n",
        "     #Calcula la sigmoide de una entrada z\n",
        "     #convierte la intrada a un arreglo numpy\n",
        "    z = np.array(z)\n",
        "\n",
        "    g = np.zeros(z.shape)\n",
        "\n",
        "    g = 1 / (1 + np.exp(-z))\n",
        "\n",
        "    return g"
      ],
      "execution_count": 17,
      "outputs": []
    },
    {
      "cell_type": "code",
      "source": [
        "#prueba de la implementacion de la Sigmoide\n",
        "z = 0\n",
        "g = sigmoid(z)\n",
        "print ('g(', z,') = ', g)"
      ],
      "metadata": {
        "id": "hW6p3S7jwKwe",
        "colab": {
          "base_uri": "https://localhost:8080/"
        },
        "outputId": "a3e3efa3-0ae9-4ba2-91d7-14ced075be27"
      },
      "execution_count": 18,
      "outputs": [
        {
          "output_type": "stream",
          "name": "stdout",
          "text": [
            "g( 0 ) =  0.5\n"
          ]
        }
      ]
    },
    {
      "cell_type": "code",
      "source": [
        "#Configuramos la matriz adecuadamente, y agregar una columnas de unos que corresponde al termino de intersepcion\n",
        "m, n = X.shape\n",
        "#Agrega el termino de Intercepcion a A\n",
        "X = np.concatenate([np.ones((m, 1)), X_norm], axis=1)\n",
        "print(X[5])"
      ],
      "metadata": {
        "id": "lA1UmcqIw0S3",
        "colab": {
          "base_uri": "https://localhost:8080/"
        },
        "outputId": "12734396-1057-492a-da1a-09b35fea7787"
      },
      "execution_count": 19,
      "outputs": [
        {
          "output_type": "stream",
          "name": "stdout",
          "text": [
            "[ 1.          0.48080378 -0.14124135  0.59471619  0.55857059 -0.10701083\n",
            " -0.11790844 -0.29371771 -0.50516741  0.14098563 -0.10589683 -0.09096589\n",
            " -0.11141592 -0.0896204  -0.07257014  0.58049633]\n"
          ]
        }
      ]
    },
    {
      "cell_type": "code",
      "source": [
        "print(X)"
      ],
      "metadata": {
        "id": "3Zefggpb1wxp",
        "colab": {
          "base_uri": "https://localhost:8080/"
        },
        "outputId": "c373b72f-2b99-4101-d120-e29008b4cdd3"
      },
      "execution_count": 20,
      "outputs": [
        {
          "output_type": "stream",
          "name": "stdout",
          "text": [
            "[[ 1.         -0.15294747 -0.2456713  ... -0.08988852 -0.07258309\n",
            "  -0.92612704]\n",
            " [ 1.          0.62878237 -0.11685734 ... -0.08971782 -0.07257476\n",
            "   0.93228737]\n",
            " [ 1.         -0.73490068 -0.36908686 ... -0.08979794 -0.07257846\n",
            "   0.97859643]\n",
            " ...\n",
            " [ 1.         -1.68137707 -0.52504786 ... -0.09037924 -0.0726053\n",
            "  -1.27147164]\n",
            " [ 1.         -0.85487734 -0.38885669 ... -0.08958672 -0.07256921\n",
            "   0.69337468]\n",
            " [ 1.          1.39341222 -0.67755279 ... -0.0217335  -0.05662062\n",
            "  -0.68997711]]\n"
          ]
        }
      ]
    },
    {
      "cell_type": "code",
      "source": [
        "def calcularCosto(theta, X, y):\n",
        "    # Inicializar algunos valores utiles\n",
        "    m = y.size  # numero de ejemplos de entrenamiento\n",
        "\n",
        "    J = 0\n",
        "    h = sigmoid(X.dot(theta.T))\n",
        "    J = (1 / m) * np.sum(-y.dot(np.log(h)) - (1 - y).dot(np.log(1 - h)))\n",
        "\n",
        "    return J"
      ],
      "metadata": {
        "id": "jEWZdyMAxr-2"
      },
      "execution_count": 21,
      "outputs": []
    },
    {
      "cell_type": "code",
      "source": [
        "def descensoGradiente(theta, X, y, alpha, num_iters):\n",
        "    # Inicializa algunos valores\n",
        "    m = y.shape[0] # numero de ejemplos de entrenamiento\n",
        "\n",
        "    # realiza una copia de theta, el cual será acutalizada por el descenso por el gradiente\n",
        "    theta = theta.copy()\n",
        "    J_history = []\n",
        "\n",
        "    for i in range(num_iters):\n",
        "        h = sigmoid(X.dot(theta.T))\n",
        "        theta = theta - (alpha / m) * (h - y).dot(X)\n",
        "\n",
        "        J_history.append(calcularCosto(theta, X, y))\n",
        "    return theta, J_history"
      ],
      "metadata": {
        "id": "ofk9xzhaxuRG"
      },
      "execution_count": 22,
      "outputs": []
    },
    {
      "cell_type": "code",
      "source": [
        "#Carga de dataset\n",
        "data = pd.read_csv('/content/test.csv')\n",
        "print(data)"
      ],
      "metadata": {
        "id": "m6mkPzCh19qk",
        "colab": {
          "base_uri": "https://localhost:8080/"
        },
        "outputId": "bcc58bce-f0bf-4e3e-f23c-7902cb9f3fe9"
      },
      "execution_count": 23,
      "outputs": [
        {
          "output_type": "stream",
          "name": "stdout",
          "text": [
            "       Unnamed: 0         UTC  Temperature[C]  Humidity[%]  TVOC[ppb]  \\\n",
            "0           31120  1654767469          21.330        51.93        138   \n",
            "1           49054  1654785403          24.300        53.78       1297   \n",
            "2           55910  1654716955          43.330        18.53          0   \n",
            "3           33802  1654770151          18.440        56.79        358   \n",
            "4            9683  1654743014          -4.350        57.35        825   \n",
            "...           ...         ...             ...          ...        ...   \n",
            "12521        2084  1654735415          21.805        47.50          0   \n",
            "12522       24481  1654757812          -1.740        54.32       1253   \n",
            "12523       41631  1654777980          26.940        47.87       1222   \n",
            "12524       54885  1654715930          25.850        44.96          0   \n",
            "12525        9273  1654742604          -5.169        60.25        586   \n",
            "\n",
            "       eCO2[ppm]  Raw H2  Raw Ethanol  Pressure[hPa]  PM1.0  PM2.5  NC0.5  \\\n",
            "0            400   13190        20128        939.690   0.96   1.00   6.60   \n",
            "1            400   13015        19403        938.774   2.03   2.11  13.99   \n",
            "2            400   13621        21322        936.812   1.16   1.21   7.98   \n",
            "3            400   13069        19907        939.295   0.33   0.34   2.24   \n",
            "4            977   12634        19523        939.138   2.58   2.68  17.78   \n",
            "...          ...     ...          ...            ...    ...    ...    ...   \n",
            "12521        400   13164        20058        939.635   0.84   0.87   5.76   \n",
            "12522        400   13002        19410        938.797   1.56   1.62  10.73   \n",
            "12523        408   12886        19428        938.765   1.96   2.03  13.47   \n",
            "12524        400   13456        21299        937.375   2.19   2.28  15.08   \n",
            "12525        572   12855        19682        939.235   2.57   2.67  17.68   \n",
            "\n",
            "       NC1.0  NC2.5    CNT  Fire Alarm  \n",
            "0      1.030  0.023   6126           1  \n",
            "1      2.181  0.049  24060           1  \n",
            "2      1.245  0.028   4768           0  \n",
            "3      0.349  0.008   8808           1  \n",
            "4      2.773  0.063   9683           1  \n",
            "...      ...    ...    ...         ...  \n",
            "12521  0.899  0.020   2084           0  \n",
            "12522  1.674  0.038  24481           1  \n",
            "12523  2.100  0.047  16637           1  \n",
            "12524  2.352  0.053   3743           0  \n",
            "12525  2.758  0.062   9273           1  \n",
            "\n",
            "[12526 rows x 16 columns]\n"
          ]
        }
      ]
    },
    {
      "cell_type": "code",
      "source": [
        "fila_deseada = 1\n",
        "\n",
        "if fila_deseada < len(data):\n",
        "  fila_completa = test_data.iloc[fila_deseada].to_numpy()\n",
        "  print(fila_completa)\n",
        "else:\n",
        "  print(\"La fila no existe\")"
      ],
      "metadata": {
        "id": "Czl-PJoX2XiX",
        "colab": {
          "base_uri": "https://localhost:8080/"
        },
        "outputId": "cd342da0-7f14-4687-8e8f-cdac922eabf6"
      },
      "execution_count": 24,
      "outputs": [
        {
          "output_type": "stream",
          "name": "stdout",
          "text": [
            "[4.9054000e+04 1.6547854e+09 2.4300000e+01 5.3780000e+01 1.2970000e+03\n",
            " 4.0000000e+02 1.3015000e+04 1.9403000e+04 9.3877400e+02 2.0300000e+00\n",
            " 2.1100000e+00 1.3990000e+01 2.1810000e+00 4.9000000e-02 2.4060000e+04\n",
            " 1.0000000e+00]\n"
          ]
        }
      ]
    },
    {
      "cell_type": "code",
      "source": [
        "# Elegir algun valor para alpha (probar varias alternativas)\n",
        "alpha = 0.001\n",
        "num_iters = 50000\n",
        "\n",
        "# inicializa theta y ejecuta el descenso por el gradiente\n",
        "theta = np.zeros(16)\n",
        "theta, J_history = descensoGradiente(theta, X, y, alpha, num_iters)\n",
        "\n",
        "# Grafica la convergencia del costo\n",
        "pyplot.plot(np.arange(len(J_history)), J_history, lw=2)\n",
        "pyplot.xlabel('Numero de iteraciones')\n",
        "pyplot.ylabel('Costo J')\n",
        "\n",
        "# Muestra los resultados del descenso por el gradiente\n",
        "print('theta calculado por el descenso por el gradiente: {:s}'.format(str(theta)))\n",
        "\n",
        "# verificar si ingresa o no a la universidad\n",
        "X_array = [1, 4.9054000e+04, 1.6547854e+09, 2.4300000e+01, 5.3780000e+01, 1.2970000e+03, 4.0000000e+02, 1.3015000e+04, 1.9403000e+04, 9.3877400e+02, 2.0300000e+00, 2.1100000e+00, 1.3990000e+01, 2.1810000e+00, 4.9000000e-02, 2.4060000e+04]\n",
        "aprueba = sigmoid(np.dot(X_array, theta))   # Se debe cambiar esto\n",
        "\n",
        "print(f\"el numero de veces embarazada: {X_array[1]} y Concentración de glucosa plasmática a las 2 horas en una prueba.: {X_array[2]} (usando el descenso por el gradiente):{aprueba}\")"
      ],
      "metadata": {
        "id": "dBL4tIOhx_qu",
        "colab": {
          "base_uri": "https://localhost:8080/",
          "height": 578
        },
        "outputId": "e16132fa-919e-4c5f-dbdc-d3400f4e5895"
      },
      "execution_count": 25,
      "outputs": [
        {
          "output_type": "stream",
          "name": "stdout",
          "text": [
            "theta calculado por el descenso por el gradiente: [ 2.04259066 -0.40602052 -0.55973736 -0.54783584  0.50591507 -0.8186757\n",
            "  0.37471656  0.56310092 -0.86573322 -0.85147884 -0.05381637 -0.01088786\n",
            " -0.0983599  -0.00784993  0.02531147  2.36070965]\n",
            "el numero de veces embarazada: 49054.0 y Concentración de glucosa plasmática a las 2 horas en una prueba.: 1654785400.0 (usando el descenso por el gradiente):0.0\n"
          ]
        },
        {
          "output_type": "stream",
          "name": "stderr",
          "text": [
            "<ipython-input-17-a58772a2f008>:9: RuntimeWarning: overflow encountered in exp\n",
            "  g = 1 / (1 + np.exp(-z))\n"
          ]
        },
        {
          "output_type": "display_data",
          "data": {
            "text/plain": [
              "<Figure size 640x480 with 1 Axes>"
            ],
            "image/png": "[encoded data removed]"
          },
          "metadata": {}
        }
      ]
    },
    {
      "cell_type": "code",
      "source": [
        "def costFunction(theta, X, y):\n",
        "    # Inicializar algunos valores utiles\n",
        "    m = y.size  # numero de ejemplos de entrenamiento\n",
        "    epsilon = 1e-8\n",
        "    J = 0\n",
        "    grad = np.zeros(theta.shape)\n",
        "\n",
        "    h = sigmoid(X.dot(theta.T))\n",
        "\n",
        "    J = (1 / m) * np.sum(-y.dot(np.log(h)) - (1 - y).dot(np.log(1 - h+epsilon)))\n",
        "    grad = (1 / m) * (h - y).dot(X)\n",
        "\n",
        "    return J, grad"
      ],
      "metadata": {
        "id": "QwTj64tW36gQ"
      },
      "execution_count": 26,
      "outputs": []
    },
    {
      "cell_type": "markdown",
      "source": [
        "Se prueba la funcion costFunction utilizando dos casos de prueba para  θ"
      ],
      "metadata": {
        "id": "M3Skkluq3-61"
      }
    },
    {
      "cell_type": "code",
      "source": [
        "# Inicializacion de parametros de ajuste\n",
        "initial_theta = np.zeros(n+1)\n",
        "print(initial_theta)\n",
        "cost, grad = costFunction(initial_theta, X, y)\n",
        "\n",
        "print('Costo en theta inicial (zeros): {:.3f}'.format(cost))\n",
        "print('Costo esperado (aproximado): 0.693\\n')\n",
        "print(grad)\n",
        "print('Gradiente en theta inicial (zeros):')\n",
        "print('\\t[{:.4f}, {:.4f}, {:.4f}]'.format(*grad))\n",
        "print('Gradiente esperado (aproximado):\\n\\t[-0.1000, -12.0092, -11.2628]\\n')\n",
        "\n"
      ],
      "metadata": {
        "id": "GGvEjYmU3_-t",
        "colab": {
          "base_uri": "https://localhost:8080/"
        },
        "outputId": "3794220f-ffd0-4153-8469-8cb5a54485bb"
      },
      "execution_count": 27,
      "outputs": [
        {
          "output_type": "stream",
          "name": "stdout",
          "text": [
            "[0. 0. 0. 0. 0. 0. 0. 0. 0. 0. 0. 0. 0. 0. 0. 0.]\n",
            "Costo en theta inicial (zeros): 0.693\n",
            "Costo esperado (aproximado): 0.693\n",
            "\n",
            "[-0.21501277  0.16250152  0.17526892  0.07450492 -0.18075954  0.09655871\n",
            "  0.04277261 -0.04778139  0.15463413 -0.11283394  0.04886144  0.03676132\n",
            "  0.05755764  0.03579373  0.02431628 -0.30432667]\n",
            "Gradiente en theta inicial (zeros):\n",
            "\t[-0.2150, 0.1625, 0.1753]\n",
            "Gradiente esperado (aproximado):\n",
            "\t[-0.1000, -12.0092, -11.2628]\n",
            "\n"
          ]
        }
      ]
    },
    {
      "cell_type": "code",
      "source": [
        "# Establecer las opciones para optimize.minimize\n",
        "options= {'maxiter': 1000}\n",
        "\n",
        "# revisar la documentacion de scipy's optimize.minimize para mayor descripcion de los parametros\n",
        "# La funcion devuekve un objeto `OptimizeResult`\n",
        "# Se utiliza el algoritmo de Newton truncado para la optimización.\n",
        "res = optimize.minimize(costFunction,\n",
        "                        initial_theta,\n",
        "                        (X, y),\n",
        "                        jac=True,\n",
        "                        method='TNC',\n",
        "                        options=options)\n",
        "\n",
        "# la propiedad fun del objeto devuelto por `OptimizeResult`\n",
        "# contiene el valor del costFunction de un theta optimizado\n",
        "cost = res.fun\n",
        "\n",
        "# Theta optimizada esta en la propiedad x\n",
        "theta = res.x\n",
        "\n",
        "# Imprimir theta en la pantalla\n",
        "print('Costo con un valor de theta encontrado por optimize.minimize: {:.3f}'.format(cost))\n",
        "print('Costo esperado (aproximado): 0.203\\n');\n",
        "\n",
        "print('theta:')\n",
        "print('\\t[{:.3f}, {:.3f}, {:.3f}]'.format(*theta))\n",
        "print('Theta esperado (aproximado):\\n\\t[-25.161, 0.206, 0.201]')"
      ],
      "metadata": {
        "id": "IjEy2VhD57hG",
        "colab": {
          "base_uri": "https://localhost:8080/"
        },
        "outputId": "7a6cb577-5f12-4c53-834a-8911e2daf91e"
      },
      "execution_count": 28,
      "outputs": [
        {
          "output_type": "stream",
          "name": "stderr",
          "text": [
            "<ipython-input-28-0dfcfa2e2ef1>:7: OptimizeWarning: Unknown solver options: maxiter\n",
            "  res = optimize.minimize(costFunction,\n",
            "<ipython-input-17-a58772a2f008>:9: RuntimeWarning: overflow encountered in exp\n",
            "  g = 1 / (1 + np.exp(-z))\n",
            "<ipython-input-26-0729f69019bc>:10: RuntimeWarning: divide by zero encountered in log\n",
            "  J = (1 / m) * np.sum(-y.dot(np.log(h)) - (1 - y).dot(np.log(1 - h+epsilon)))\n"
          ]
        },
        {
          "output_type": "stream",
          "name": "stdout",
          "text": [
            "Costo con un valor de theta encontrado por optimize.minimize: 0.032\n",
            "Costo esperado (aproximado): 0.203\n",
            "\n",
            "theta:\n",
            "\t[26.041, -2.086, -0.028]\n",
            "Theta esperado (aproximado):\n",
            "\t[-25.161, 0.206, 0.201]\n"
          ]
        }
      ]
    },
    {
      "cell_type": "code",
      "source": [
        "# verificar si ingresa o no a la universidad\n",
        "X_array = [1, 90, 70]\n",
        "theta_om = [-25.161, 0.206, 0.201]\n",
        "aprueba = sigmoid(np.dot(X_array, theta_om))   # Se debe cambiar esto\n",
        "\n",
        "print(f\"Un estudiante con nota del examen 1: {X_array[1]} y nota del examen 2: {X_array[2]} (usando el descenso por el gradiente):{aprueba}\")"
      ],
      "metadata": {
        "id": "4TQn3oVR6Ibe",
        "colab": {
          "base_uri": "https://localhost:8080/"
        },
        "outputId": "043ad7ad-db33-489e-ec32-a42cbdd71286"
      },
      "execution_count": 29,
      "outputs": [
        {
          "output_type": "stream",
          "name": "stdout",
          "text": [
            "Un estudiante con nota del examen 1: 90 y nota del examen 2: 70 (usando el descenso por el gradiente):0.9994183152095036\n"
          ]
        }
      ]
    },
    {
      "cell_type": "code",
      "source": [
        "def plotDecisionBoundary(plotData, theta, X, y):\n",
        "    \"\"\"\n",
        "    Grafica los puntos X y Y en una nueva figura con un limite de desicion definido por theta.\n",
        "    the data points X and y into a new figure with the decision boundary defined by theta.\n",
        "    Grafica los puntos con * para los ejemplos positivos y con o para los ejemplos negativos.\n",
        "\n",
        "    Parametros:\n",
        "    ----------\n",
        "    plotData : func\n",
        "        A function reference for plotting the X, y data.\n",
        "\n",
        "    theta : array_like\n",
        "        Parametros para la regresion logistica. Un vecto de la forma (n+1, ).\n",
        "\n",
        "    X : array_like\n",
        "        Data set de entrada. Se supone que X es una de las siguientes:\n",
        "            1) Matriz Mx3, donde la primera columna es una columna de unos para intercepción.\n",
        "            2) Matriz MxN, N> 3, donde la primera columna son todos unos.\n",
        "\n",
        "    y : array_like\n",
        "        Vector de datos de etiquetas de la forma (m, ).\n",
        "    \"\"\"\n",
        "    # hacer que theta sera un arreglo numpy\n",
        "    theta = np.array(theta)\n",
        "\n",
        "    # Graficar los datos (recordar que la primera columna en X es la intercepción)\n",
        "    plotData(X[:, 1:8], y) #cambiar estos valores depende a las x que tengas\n",
        "\n",
        "    if X.shape[1] <= 8: #cambiar estos valores depende a las x que tengas\n",
        "        # Solo se requieren 2 puntos para definir una linea, para lo cual se eligen dos puntos finales\n",
        "        plot_x = np.array([np.min(X[:, 1]) - 2, np.max(X[:, 1]) + 2])\n",
        "\n",
        "        # Calcular la línea límite de decisión\n",
        "        plot_y = (-1. / theta[2]) * (theta[1] * plot_x + theta[0])\n",
        "\n",
        "        print(plot_x)\n",
        "        print(plot_y)\n",
        "        # Graficar y ajustar los ejes para una mejor visualización\n",
        "        pyplot.plot(plot_x, plot_y)\n",
        "\n",
        "        # Leyenda, especifica para el ejercicio\n",
        "        pyplot.legend(['Admitido', 'No admitido', 'Limite de decisión'])\n",
        "        pyplot.xlim([30, 100])\n",
        "        pyplot.ylim([30, 100])\n",
        "    else:\n",
        "        # Rango de la grilla\n",
        "        u = np.linspace(-1, 1.5, 50)\n",
        "        v = np.linspace(-1, 1.5, 50)\n",
        "\n",
        "        z = np.zeros((u.size, v.size))\n",
        "        # Evalua z = theta*x sobre la grilla\n",
        "        for i, ui in enumerate(u):\n",
        "            for j, vj in enumerate(v):\n",
        "                z[i, j] = np.dot(mapFeature(ui, vj), theta)\n",
        "\n",
        "        z = z.T  # importante transponer z antes de llamar al contorno\n",
        "        # print(z)\n",
        "\n",
        "        # Plot z = 0\n",
        "        pyplot.contour(u, v, z, levels=[0], linewidths=2, colors='g')\n",
        "        pyplot.contourf(u, v, z, levels=[np.min(z), 0, np.max(z)], cmap='Greens', alpha=0.4)"
      ],
      "metadata": {
        "id": "GH40BxgP6UB1"
      },
      "execution_count": 30,
      "outputs": []
    },
    {
      "cell_type": "code",
      "source": [
        "def predict(theta, X):\n",
        "    \"\"\"\n",
        "    Predecir si la etiqueta es 0 o 1 mediante regresión logística aprendida.\n",
        "    Calcula las predicciones para X usando un umbral en 0.5 (es decir, si sigmoide (theta.T * x)> = 0.5, predice 1)\n",
        "\n",
        "    Parametros\n",
        "    ----------\n",
        "    theta : array_like\n",
        "        Parametros para regresion logistica. Un vecto de la forma (n+1, ).\n",
        "\n",
        "    X : array_like\n",
        "        Datos utilizados para el calculo de las predicciones.\n",
        "        La fila es el numero de los puntos para calcular las predicciones,\n",
        "        y las columnas con el numero de caracteristicas.\n",
        "\n",
        "    Devuelve\n",
        "    -------\n",
        "    p : array_like\n",
        "        Predicciones y 0 o 1 para cada fila en X.\n",
        "    \"\"\"\n",
        "    m = X.shape[0] # Numero de ejemplo de entrenamiento\n",
        "\n",
        "    p = np.zeros(m)\n",
        "\n",
        "    p = np.round(sigmoid(X.dot(theta.T)))\n",
        "    return p"
      ],
      "metadata": {
        "id": "_oFTpu7N7FK1"
      },
      "execution_count": 31,
      "outputs": []
    },
    {
      "cell_type": "code",
      "source": [
        "#  Predice la probabilidad de ingreso para un estudiante con nota de 45 en el examen 1 y nota de 85 en el examen 2\n",
        "prob = sigmoid(np.dot([1, 4.9054000e+04, 1.6547854e+09, 2.4300000e+01, 5.3780000e+01, 1.2970000e+03, 4.0000000e+02, 1.3015000e+04, 1.9403000e+04, 9.3877400e+02, 2.0300000e+00, 2.1100000e+00, 1.3990000e+01, 2.1810000e+00, 4.9000000e-02, 2.4060000e+04], theta))\n",
        "print('Con estos datos, se predice una probabilidad de que haya un incendio de: {:.3f}%'.format(prob))\n",
        "print('Valor esperado: 0.775 +/- 0.002\\n')\n",
        "\n",
        "# Compute accuracy on our training set\n",
        "p = predict(theta, X)\n",
        "print('Precisión de entrenamiento: {:.2f} %'.format(np.mean(p == y) * 100))\n",
        "print('Precisión esperada (aproximadamente): 89.00 %')"
      ],
      "metadata": {
        "id": "FuH9h_-R7IlN",
        "colab": {
          "base_uri": "https://localhost:8080/"
        },
        "outputId": "d67e94d4-1425-41cf-9447-c340df3c496c"
      },
      "execution_count": 32,
      "outputs": [
        {
          "output_type": "stream",
          "name": "stdout",
          "text": [
            "Con estos datos, se predice una probabilidad de que haya un incendio de: 0.000%\n",
            "Valor esperado: 0.775 +/- 0.002\n",
            "\n",
            "Precisión de entrenamiento: 99.16 %\n",
            "Precisión esperada (aproximadamente): 89.00 %\n"
          ]
        },
        {
          "output_type": "stream",
          "name": "stderr",
          "text": [
            "<ipython-input-17-a58772a2f008>:9: RuntimeWarning: overflow encountered in exp\n",
            "  g = 1 / (1 + np.exp(-z))\n"
          ]
        }
      ]
    }
  ]
}